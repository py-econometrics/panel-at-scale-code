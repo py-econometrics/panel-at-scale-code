{
 "cells": [
  {
   "cell_type": "code",
   "execution_count": 2,
   "metadata": {},
   "outputs": [
    {
     "name": "stdout",
     "output_type": "stream",
     "text": [
      "The autoreload extension is already loaded. To reload it, use:\n",
      "  %reload_ext autoreload\n",
      "The autoreload extension is already loaded. To reload it, use:\n",
      "  %reload_ext autoreload\n"
     ]
    }
   ],
   "source": [
    "%load_ext autoreload\n",
    "%autoreload 2\n",
    "\n",
    "from itertools import product\n",
    "from utils.dgps import generate_benchmark_data\n",
    "from utils.estimators import (\n",
    "    twfe_fixest, twfe_fixest_compressed, twfe_statsmodels, duck_mundlak\n",
    ")\n",
    "from utils.benchmark import Bench\n",
    "import pandas as pd\n",
    "import matplotlib.pyplot as plt\n",
    "import seaborn as sns"
   ]
  },
  {
   "cell_type": "code",
   "execution_count": 3,
   "metadata": {},
   "outputs": [],
   "source": [
    "%%capture\n",
    "\n",
    "N_values = [100_000]\n",
    "# 2-5 weeks of runtime, daily data\n",
    "T_values = [14, 21, 28]\n",
    "# one week prior\n",
    "T0_values = [7]\n",
    "iter = 3\n",
    "\n",
    "all_benchmarks_df = pd.DataFrame()\n",
    "\n",
    "for N, T, T0 in product(N_values, T_values, T0_values):\n",
    "\n",
    "    bench = Bench(N = N, T = T, T0 = T0, iter = 3)\n",
    "    bench.mark(fun = twfe_fixest)\n",
    "    #bench.mark(fun = twfe_statsmodels)\n",
    "    # add mundlak twfe via pyfixest in memory once on PyPi\n",
    "    # duck_mundlak runs with 1 bootstrap iteration\n",
    "    bench.mark(fun = twfe_fixest_compressed)\n",
    "    bench.mark(fun = duck_mundlak)\n",
    "    \n",
    "    bench_df = bench.to_dataframe()\n",
    "    bench_df[\"N\"] = N\n",
    "    bench_df[\"T\"] = T\n",
    "    bench_df[\"T0\"] = T0\n",
    "    \n",
    "    all_benchmarks_df = pd.concat(\n",
    "        [all_benchmarks_df, bench_df], \n",
    "        axis = 0\n",
    "    )"
   ]
  },
  {
   "cell_type": "code",
   "execution_count": null,
   "metadata": {},
   "outputs": [],
   "source": [
    "all_benchmarks_df.head()"
   ]
  },
  {
   "cell_type": "code",
   "execution_count": null,
   "metadata": {},
   "outputs": [],
   "source": [
    "# drop first column due to numba burn-in\n",
    "all_benchmarks_df_melted = all_benchmarks_df.iloc[1:,:].melt(id_vars=['N', 'T', 'T0'], value_vars=['twfe_fixest', 'duck_mundlak'], \n",
    "                    var_name='model', value_name='value')                    \n",
    "all_benchmarks_df_melted['N'] = all_benchmarks_df_melted['N'].apply(lambda x: f'{x:.0e}')"
   ]
  },
  {
   "cell_type": "code",
   "execution_count": null,
   "metadata": {},
   "outputs": [],
   "source": [
    "g = sns.FacetGrid(all_benchmarks_df_melted, col=\"T\", row=\"N\", margin_titles=True, height=4, aspect=1)\n",
    "g.map_dataframe(sns.violinplot, x='model', y='value', hue='model', palette='Set2', legend=False)\n",
    "\n",
    "# Adjust layout\n",
    "plt.yscale('log')\n",
    "plt.subplots_adjust(top=0.9)\n",
    "g.fig.suptitle('Violin Plots of Models for Different N and T')\n",
    "\n",
    "plt.show()"
   ]
  },
  {
   "cell_type": "code",
   "execution_count": null,
   "metadata": {},
   "outputs": [],
   "source": []
  }
 ],
 "metadata": {
  "language_info": {
   "name": "python"
  }
 },
 "nbformat": 4,
 "nbformat_minor": 2
}
