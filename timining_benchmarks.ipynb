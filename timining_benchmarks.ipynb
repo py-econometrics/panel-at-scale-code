{
 "cells": [
  {
   "cell_type": "code",
   "execution_count": 2,
   "metadata": {},
   "outputs": [
    {
     "name": "stdout",
     "output_type": "stream",
     "text": [
      "The autoreload extension is already loaded. To reload it, use:\n",
      "  %reload_ext autoreload\n",
      "The autoreload extension is already loaded. To reload it, use:\n",
      "  %reload_ext autoreload\n"
     ]
    }
   ],
   "source": [
    "%load_ext autoreload\n",
    "%autoreload 2\n",
    "\n",
    "from itertools import product\n",
    "from utils.dgps import generate_benchmark_data\n",
    "from utils.estimators import (\n",
    "    twfe_fixest, twfe_fixest_compressed, twfe_statsmodels, duck_mundlak\n",
    ")\n",
    "from utils.benchmark import Bench\n",
    "import pandas as pd\n",
    "import matplotlib.pyplot as plt\n",
    "import seaborn as sns"
   ]
  },
  {
   "cell_type": "code",
   "execution_count": 3,
   "metadata": {},
   "outputs": [],
   "source": [
    "%%capture\n",
    "\n",
    "N_values = [1000, 10_000]\n",
    "# 2-5 weeks of runtime, daily data\n",
    "T_values = [14, 21, 28]\n",
    "# one week prior\n",
    "T0_values = [7]\n",
    "iter = 3\n",
    "\n",
    "all_benchmarks_df = pd.DataFrame()\n",
    "\n",
    "for N, T, T0 in product(N_values, T_values, T0_values):\n",
    "\n",
    "    bench = Bench(N = N, T = T, T0 = T0, iter = 3)\n",
    "    bench.mark(fun = twfe_fixest)\n",
    "    #bench.mark(fun = twfe_statsmodels)\n",
    "    # add mundlak twfe via pyfixest in memory once on PyPi\n",
    "    bench.mark(fun = duck_mundlak)\n",
    "    \n",
    "    bench_df = bench.to_dataframe()\n",
    "    bench_df[\"N\"] = N\n",
    "    bench_df[\"T\"] = T\n",
    "    bench_df[\"T0\"] = T0\n",
    "    \n",
    "    all_benchmarks_df = pd.concat(\n",
    "        [all_benchmarks_df, bench_df], \n",
    "        axis = 0\n",
    "    )"
   ]
  },
  {
   "cell_type": "code",
   "execution_count": null,
   "metadata": {},
   "outputs": [
    {
     "data": {
      "text/html": [
       "<div>\n",
       "<style scoped>\n",
       "    .dataframe tbody tr th:only-of-type {\n",
       "        vertical-align: middle;\n",
       "    }\n",
       "\n",
       "    .dataframe tbody tr th {\n",
       "        vertical-align: top;\n",
       "    }\n",
       "\n",
       "    .dataframe thead th {\n",
       "        text-align: right;\n",
       "    }\n",
       "</style>\n",
       "<table border=\"1\" class=\"dataframe\">\n",
       "  <thead>\n",
       "    <tr style=\"text-align: right;\">\n",
       "      <th></th>\n",
       "      <th>twfe_fixest</th>\n",
       "      <th>twfe_statsmodels</th>\n",
       "      <th>duck_mundlak</th>\n",
       "      <th>N</th>\n",
       "      <th>T</th>\n",
       "      <th>T0</th>\n",
       "    </tr>\n",
       "  </thead>\n",
       "  <tbody>\n",
       "    <tr>\n",
       "      <th>0</th>\n",
       "      <td>0.020054</td>\n",
       "      <td>4.542627</td>\n",
       "      <td>0.045307</td>\n",
       "      <td>1000</td>\n",
       "      <td>14</td>\n",
       "      <td>7</td>\n",
       "    </tr>\n",
       "    <tr>\n",
       "      <th>1</th>\n",
       "      <td>0.018306</td>\n",
       "      <td>4.679661</td>\n",
       "      <td>0.043150</td>\n",
       "      <td>1000</td>\n",
       "      <td>14</td>\n",
       "      <td>7</td>\n",
       "    </tr>\n",
       "    <tr>\n",
       "      <th>2</th>\n",
       "      <td>0.017666</td>\n",
       "      <td>4.886612</td>\n",
       "      <td>0.039551</td>\n",
       "      <td>1000</td>\n",
       "      <td>14</td>\n",
       "      <td>7</td>\n",
       "    </tr>\n",
       "    <tr>\n",
       "      <th>0</th>\n",
       "      <td>0.027436</td>\n",
       "      <td>7.437598</td>\n",
       "      <td>0.044361</td>\n",
       "      <td>1000</td>\n",
       "      <td>21</td>\n",
       "      <td>7</td>\n",
       "    </tr>\n",
       "    <tr>\n",
       "      <th>1</th>\n",
       "      <td>0.033614</td>\n",
       "      <td>6.815723</td>\n",
       "      <td>0.046144</td>\n",
       "      <td>1000</td>\n",
       "      <td>21</td>\n",
       "      <td>7</td>\n",
       "    </tr>\n",
       "  </tbody>\n",
       "</table>\n",
       "</div>"
      ],
      "text/plain": [
       "   twfe_fixest  twfe_statsmodels  duck_mundlak     N   T  T0\n",
       "0     0.020054          4.542627      0.045307  1000  14   7\n",
       "1     0.018306          4.679661      0.043150  1000  14   7\n",
       "2     0.017666          4.886612      0.039551  1000  14   7\n",
       "0     0.027436          7.437598      0.044361  1000  21   7\n",
       "1     0.033614          6.815723      0.046144  1000  21   7"
      ]
     },
     "execution_count": null,
     "metadata": {},
     "output_type": "execute_result"
    }
   ],
   "source": [
    "all_benchmarks_df.head()"
   ]
  },
  {
   "cell_type": "code",
   "execution_count": null,
   "metadata": {},
   "outputs": [
    {
     "name": "stderr",
     "output_type": "stream",
     "text": [
      "C:\\Users\\alexa\\Documents\\panel-scale-code\\.pixi\\envs\\default\\Lib\\site-packages\\seaborn\\axisgrid.py:718: UserWarning: Using the violinplot function without specifying `order` is likely to produce an incorrect plot.\n",
      "  warnings.warn(warning)\n",
      "C:\\Users\\alexa\\Documents\\panel-scale-code\\.pixi\\envs\\default\\Lib\\site-packages\\seaborn\\axisgrid.py:854: FutureWarning: \n",
      "\n",
      "Passing `palette` without assigning `hue` is deprecated and will be removed in v0.14.0. Assign the `x` variable to `hue` and set `legend=False` for the same effect.\n",
      "\n",
      "  func(*plot_args, **plot_kwargs)\n",
      "C:\\Users\\alexa\\Documents\\panel-scale-code\\.pixi\\envs\\default\\Lib\\site-packages\\seaborn\\axisgrid.py:854: FutureWarning: \n",
      "\n",
      "Passing `palette` without assigning `hue` is deprecated and will be removed in v0.14.0. Assign the `x` variable to `hue` and set `legend=False` for the same effect.\n",
      "\n",
      "  func(*plot_args, **plot_kwargs)\n",
      "C:\\Users\\alexa\\Documents\\panel-scale-code\\.pixi\\envs\\default\\Lib\\site-packages\\seaborn\\axisgrid.py:854: FutureWarning: \n",
      "\n",
      "Passing `palette` without assigning `hue` is deprecated and will be removed in v0.14.0. Assign the `x` variable to `hue` and set `legend=False` for the same effect.\n",
      "\n",
      "  func(*plot_args, **plot_kwargs)\n"
     ]
    },
    {
     "data": {
      "text/plain": [
       "Text(0.5, 0.98, 'Violin Plots of Models for Different N and T')"
      ]
     },
     "execution_count": null,
     "metadata": {},
     "output_type": "execute_result"
    },
    {
     "data": {
      "image/png": "[encoded data removed]",
      "text/plain": [
       "<Figure size 1200x400 with 3 Axes>"
      ]
     },
     "metadata": {},
     "output_type": "display_data"
    }
   ],
   "source": [
    "all_benchmarks_df_melted = all_benchmarks_df.melt(id_vars=['N', 'T', 'T0'], value_vars=['twfe_fixest', 'twfe_statsmodels', 'duck_mundlak'], \n",
    "                    var_name='model', value_name='value')\n",
    "\n",
    "# Create violin plots with different panels for N and T, and different colors for models\n",
    "g = sns.FacetGrid(all_benchmarks_df_melted, col=\"T\", row=\"N\", margin_titles=True, height=4, aspect=1)\n",
    "g.map(sns.violinplot, 'model', 'value', palette='Set2')\n",
    "\n",
    "# Adjust layout\n",
    "plt.subplots_adjust(top=0.9)\n",
    "g.fig.suptitle('Violin Plots of Models for Different N and T')"
   ]
  },
  {
   "cell_type": "code",
   "execution_count": null,
   "metadata": {},
   "outputs": [],
   "source": [
    "g = sns.FacetGrid(df_melted, col=\"T\", row=\"N\", margin_titles=True, height=4, aspect=1)\n",
    "g.map(sns.violinplot, 'model', 'value', hue='model', palette='Set2', legend=False)\n",
    "\n",
    "# Adjust layout\n",
    "plt.subplots_adjust(top=0.9)\n",
    "g.fig.suptitle('Violin Plots of Models for Different N and T')\n",
    "\n",
    "plt.show()"
   ]
  },
  {
   "cell_type": "code",
   "execution_count": null,
   "metadata": {},
   "outputs": [],
   "source": []
  }
 ],
 "metadata": {
  "language_info": {
   "name": "python"
  }
 },
 "nbformat": 4,
 "nbformat_minor": 2
}
